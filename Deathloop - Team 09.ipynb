{
 "cells": [
  {
   "cell_type": "code",
   "execution_count": 12,
   "id": "196afea1",
   "metadata": {},
   "outputs": [
    {
     "name": "stdout",
     "output_type": "stream",
     "text": [
      "6\n",
      "93\n",
      "74\n",
      "77\n",
      "97\n",
      "34\n",
      "34\n",
      "28\n",
      "14\n",
      "14\n",
      "54\n",
      "29\n",
      "63\n",
      "73\n",
      "63\n",
      "11\n",
      "18\n",
      "85\n",
      "21\n",
      "25\n",
      "6\n",
      "80\n",
      "36\n",
      "8\n",
      "6\n",
      "17\n",
      "14\n",
      "74\n",
      "71\n",
      "4\n",
      "95\n",
      "74\n",
      "66\n",
      "36\n",
      "13\n",
      "94\n",
      "34\n",
      "92\n"
     ]
    },
    {
     "data": {
      "text/plain": [
       "'All conditions met after 38 loops and 0.00 seconds.'"
      ]
     },
     "execution_count": 12,
     "metadata": {},
     "output_type": "execute_result"
    }
   ],
   "source": [
    "\n",
    "# Deathloop ---- we tried ----\n",
    "\n",
    "import time\n",
    "import random\n",
    "\n",
    "\n",
    "def deathlooperino():\n",
    "    conditions = [False] * 9\n",
    "    start_time = time.time()\n",
    "    loop_counter = 0\n",
    "    while not all(conditions):\n",
    "        r_num = random.randint(1, 100)\n",
    "        print(r_num)\n",
    "        if r_num % 2 == 0:\n",
    "            conditions[0] = True\n",
    "        if r_num % 3 == 0:\n",
    "            conditions[1] = True\n",
    "        if r_num % 5 == 0:\n",
    "            conditions[2] = True\n",
    "        if r_num % 7 == 0:\n",
    "            conditions[3] = True\n",
    "        if r_num % 11 == 0:\n",
    "            conditions[4] = True\n",
    "        if r_num % 13 == 0:\n",
    "            conditions[5] = True\n",
    "        if r_num % 17 == 0:\n",
    "            conditions[6] = True\n",
    "        if r_num % 19 == 0:\n",
    "            conditions[7] = True\n",
    "        if r_num % 23 == 0:\n",
    "            conditions[8] = True\n",
    "        loop_counter += 1\n",
    "    run_time = time.time() - start_time\n",
    "    result = (f\"All conditions met after {loop_counter} loops and {run_time:.2f} seconds.\")\n",
    "    return result\n",
    "\n",
    "\n",
    "deathlooperino()"
   ]
  },
  {
   "cell_type": "code",
   "execution_count": null,
   "id": "d734adc0",
   "metadata": {},
   "outputs": [],
   "source": []
  }
 ],
 "metadata": {
  "kernelspec": {
   "display_name": "Python 3 (ipykernel)",
   "language": "python",
   "name": "python3"
  },
  "language_info": {
   "codemirror_mode": {
    "name": "ipython",
    "version": 3
   },
   "file_extension": ".py",
   "mimetype": "text/x-python",
   "name": "python",
   "nbconvert_exporter": "python",
   "pygments_lexer": "ipython3",
   "version": "3.9.13"
  }
 },
 "nbformat": 4,
 "nbformat_minor": 5
}
